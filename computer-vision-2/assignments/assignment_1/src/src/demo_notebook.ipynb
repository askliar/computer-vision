{
 "cells": [
  {
   "cell_type": "code",
   "execution_count": 13,
   "metadata": {},
   "outputs": [],
   "source": [
    "from helpers import read_data, get_files, read_pcd, make_homogeneous, clean_pcds\n",
    "from ICP import icp\n",
    "import os\n",
    "from merge_scenes import get_merge_transformations, merge_frames\n",
    "from functools import reduce\n",
    "from scipy.io import savemat\n",
    "import itertools\n",
    "import time\n",
    "import matlab.engine\n",
    "import numpy as np\n",
    "\n",
    "np.random.seed(42)"
   ]
  },
  {
   "cell_type": "code",
   "execution_count": 6,
   "metadata": {},
   "outputs": [],
   "source": [
    "# start matlab engine to preprocess files and visualize scatter plots\n",
    "matlab_eng = matlab.engine.start_matlab()"
   ]
  },
  {
   "cell_type": "code",
   "execution_count": 3,
   "metadata": {},
   "outputs": [],
   "source": [
    "data_path = '../data/'\n",
    "transformed_data_path = '../data/transformed_data'"
   ]
  },
  {
   "cell_type": "code",
   "execution_count": 4,
   "metadata": {},
   "outputs": [],
   "source": [
    "data_dir = os.path.join(os.getcwd(), f'{data_path}')\n",
    "transformed_data_dir = os.path.join(os.getcwd(), f'{transformed_data_path}/')"
   ]
  },
  {
   "cell_type": "code",
   "execution_count": 7,
   "metadata": {},
   "outputs": [
    {
     "name": "stdout",
     "output_type": "stream",
     "text": [
      "the MATLAB function has been cancelled\n"
     ]
    },
    {
     "ename": "MatlabExecutionError",
     "evalue": "\n  File /Users/andrewsklyar/Education/uva/computer-vision/part2/assignments/computer-vision-2/Assignment_1/final_code/generate_normals.m, line 6, in generate_normals\nUnable to read file '/Users/andrewsklyar/Education/uva/computer-vision/part2/assignments/computer-vision-2/Assignment_1/data/data_mat/0000000001.mat'. No such file or directory.\n",
     "output_type": "error",
     "traceback": [
      "\u001b[0;31m---------------------------------------------------------------------------\u001b[0m",
      "\u001b[0;31mMatlabExecutionError\u001b[0m                      Traceback (most recent call last)",
      "\u001b[0;32m<ipython-input-7-5af9e937647b>\u001b[0m in \u001b[0;36m<module>\u001b[0;34m()\u001b[0m\n\u001b[1;32m      1\u001b[0m \u001b[0mmatlab_eng\u001b[0m\u001b[0;34m.\u001b[0m\u001b[0mgenerate_files\u001b[0m\u001b[0;34m(\u001b[0m\u001b[0mnargout\u001b[0m\u001b[0;34m=\u001b[0m\u001b[0;36m0\u001b[0m\u001b[0;34m)\u001b[0m\u001b[0;34m\u001b[0m\u001b[0m\n\u001b[0;32m----> 2\u001b[0;31m \u001b[0mmatlab_eng\u001b[0m\u001b[0;34m.\u001b[0m\u001b[0mgenerate_normals\u001b[0m\u001b[0;34m(\u001b[0m\u001b[0mnargout\u001b[0m\u001b[0;34m=\u001b[0m\u001b[0;36m0\u001b[0m\u001b[0;34m)\u001b[0m\u001b[0;34m\u001b[0m\u001b[0m\n\u001b[0m",
      "\u001b[0;32m~/miniconda3/envs/py36/lib/python3.6/site-packages/matlab/engine/matlabengine.py\u001b[0m in \u001b[0;36m__call__\u001b[0;34m(self, *args, **kwargs)\u001b[0m\n\u001b[1;32m     76\u001b[0m         \u001b[0;32melse\u001b[0m\u001b[0;34m:\u001b[0m\u001b[0;34m\u001b[0m\u001b[0m\n\u001b[1;32m     77\u001b[0m             return FutureResult(self._engine(), future, nargs, _stdout,\n\u001b[0;32m---> 78\u001b[0;31m                                 _stderr, feval=True).result()\n\u001b[0m\u001b[1;32m     79\u001b[0m \u001b[0;34m\u001b[0m\u001b[0m\n\u001b[1;32m     80\u001b[0m     \u001b[0;32mdef\u001b[0m \u001b[0m__validate_engine\u001b[0m\u001b[0;34m(\u001b[0m\u001b[0mself\u001b[0m\u001b[0;34m)\u001b[0m\u001b[0;34m:\u001b[0m\u001b[0;34m\u001b[0m\u001b[0m\n",
      "\u001b[0;32m~/miniconda3/envs/py36/lib/python3.6/site-packages/matlab/engine/futureresult.py\u001b[0m in \u001b[0;36mresult\u001b[0;34m(self, timeout)\u001b[0m\n\u001b[1;32m     66\u001b[0m                 \u001b[0;32mraise\u001b[0m \u001b[0mTypeError\u001b[0m\u001b[0;34m(\u001b[0m\u001b[0mpythonengine\u001b[0m\u001b[0;34m.\u001b[0m\u001b[0mgetMessage\u001b[0m\u001b[0;34m(\u001b[0m\u001b[0;34m'TimeoutCannotBeNegative'\u001b[0m\u001b[0;34m)\u001b[0m\u001b[0;34m)\u001b[0m\u001b[0;34m\u001b[0m\u001b[0m\n\u001b[1;32m     67\u001b[0m \u001b[0;34m\u001b[0m\u001b[0m\n\u001b[0;32m---> 68\u001b[0;31m         \u001b[0;32mreturn\u001b[0m \u001b[0mself\u001b[0m\u001b[0;34m.\u001b[0m\u001b[0m__future\u001b[0m\u001b[0;34m.\u001b[0m\u001b[0mresult\u001b[0m\u001b[0;34m(\u001b[0m\u001b[0mtimeout\u001b[0m\u001b[0;34m)\u001b[0m\u001b[0;34m\u001b[0m\u001b[0m\n\u001b[0m\u001b[1;32m     69\u001b[0m \u001b[0;34m\u001b[0m\u001b[0m\n\u001b[1;32m     70\u001b[0m     \u001b[0;32mdef\u001b[0m \u001b[0mcancel\u001b[0m\u001b[0;34m(\u001b[0m\u001b[0mself\u001b[0m\u001b[0;34m)\u001b[0m\u001b[0;34m:\u001b[0m\u001b[0;34m\u001b[0m\u001b[0m\n",
      "\u001b[0;32m~/miniconda3/envs/py36/lib/python3.6/site-packages/matlab/engine/fevalfuture.py\u001b[0m in \u001b[0;36mresult\u001b[0;34m(self, timeout)\u001b[0m\n\u001b[1;32m     80\u001b[0m                 \u001b[0;32mraise\u001b[0m \u001b[0mTimeoutError\u001b[0m\u001b[0;34m(\u001b[0m\u001b[0mpythonengine\u001b[0m\u001b[0;34m.\u001b[0m\u001b[0mgetMessage\u001b[0m\u001b[0;34m(\u001b[0m\u001b[0;34m'MatlabFunctionTimeout'\u001b[0m\u001b[0;34m)\u001b[0m\u001b[0;34m)\u001b[0m\u001b[0;34m\u001b[0m\u001b[0m\n\u001b[1;32m     81\u001b[0m \u001b[0;34m\u001b[0m\u001b[0m\n\u001b[0;32m---> 82\u001b[0;31m             \u001b[0mself\u001b[0m\u001b[0;34m.\u001b[0m\u001b[0m_result\u001b[0m \u001b[0;34m=\u001b[0m \u001b[0mpythonengine\u001b[0m\u001b[0;34m.\u001b[0m\u001b[0mgetFEvalResult\u001b[0m\u001b[0;34m(\u001b[0m\u001b[0mself\u001b[0m\u001b[0;34m.\u001b[0m\u001b[0m_future\u001b[0m\u001b[0;34m,\u001b[0m\u001b[0mself\u001b[0m\u001b[0;34m.\u001b[0m\u001b[0m_nargout\u001b[0m\u001b[0;34m,\u001b[0m \u001b[0;32mNone\u001b[0m\u001b[0;34m,\u001b[0m \u001b[0mout\u001b[0m\u001b[0;34m=\u001b[0m\u001b[0mself\u001b[0m\u001b[0;34m.\u001b[0m\u001b[0m_out\u001b[0m\u001b[0;34m,\u001b[0m \u001b[0merr\u001b[0m\u001b[0;34m=\u001b[0m\u001b[0mself\u001b[0m\u001b[0;34m.\u001b[0m\u001b[0m_err\u001b[0m\u001b[0;34m)\u001b[0m\u001b[0;34m\u001b[0m\u001b[0m\n\u001b[0m\u001b[1;32m     83\u001b[0m             \u001b[0mself\u001b[0m\u001b[0;34m.\u001b[0m\u001b[0m_retrieved\u001b[0m \u001b[0;34m=\u001b[0m \u001b[0;32mTrue\u001b[0m\u001b[0;34m\u001b[0m\u001b[0m\n\u001b[1;32m     84\u001b[0m             \u001b[0;32mreturn\u001b[0m \u001b[0mself\u001b[0m\u001b[0;34m.\u001b[0m\u001b[0m_result\u001b[0m\u001b[0;34m\u001b[0m\u001b[0m\n",
      "\u001b[0;31mMatlabExecutionError\u001b[0m: \n  File /Users/andrewsklyar/Education/uva/computer-vision/part2/assignments/computer-vision-2/Assignment_1/final_code/generate_normals.m, line 6, in generate_normals\nUnable to read file '/Users/andrewsklyar/Education/uva/computer-vision/part2/assignments/computer-vision-2/Assignment_1/data/data_mat/0000000001.mat'. No such file or directory.\n"
     ]
    }
   ],
   "source": [
    "# convert *.mat files to *.txt and regenerate normals\n",
    "matlab_eng.generate_files(nargout=0)\n",
    "matlab_eng.generate_normals(nargout=0)"
   ]
  },
  {
   "cell_type": "code",
   "execution_count": 5,
   "metadata": {},
   "outputs": [
    {
     "name": "stdout",
     "output_type": "stream",
     "text": [
      "Initial MSE: 0.331561847750409\n",
      "MSE after iteration 0: 0.053988832066168176, difference between errors: 0.053988832066168176, tolerance: 1e-05\n",
      "MSE after iteration 1: 0.03105490926975315, difference between errors: 0.022933922796415027, tolerance: 1e-05\n",
      "MSE after iteration 2: 0.021863697606504813, difference between errors: 0.009191211663248336, tolerance: 1e-05\n",
      "MSE after iteration 3: 0.01634580069002406, difference between errors: 0.005517896916480754, tolerance: 1e-05\n",
      "MSE after iteration 4: 0.012438769375773493, difference between errors: 0.003907031314250567, tolerance: 1e-05\n",
      "MSE after iteration 5: 0.00969157247306354, difference between errors: 0.0027471969027099523, tolerance: 1e-05\n",
      "MSE after iteration 6: 0.007632561692907074, difference between errors: 0.0020590107801564663, tolerance: 1e-05\n",
      "MSE after iteration 7: 0.0060669851337431056, difference between errors: 0.0015655765591639685, tolerance: 1e-05\n",
      "MSE after iteration 8: 0.004934756725055955, difference between errors: 0.0011322284086871508, tolerance: 1e-05\n",
      "MSE after iteration 9: 0.004114851244078351, difference between errors: 0.0008199054809776033, tolerance: 1e-05\n",
      "MSE after iteration 10: 0.0034409959932370417, difference between errors: 0.0006738552508413096, tolerance: 1e-05\n",
      "MSE after iteration 11: 0.0029189360348981764, difference between errors: 0.0005220599583388654, tolerance: 1e-05\n",
      "MSE after iteration 12: 0.002524441462435308, difference between errors: 0.00039449457246286835, tolerance: 1e-05\n",
      "MSE after iteration 13: 0.002210414573922659, difference between errors: 0.0003140268885126491, tolerance: 1e-05\n",
      "MSE after iteration 14: 0.0020009088950894423, difference between errors: 0.00020950567883321666, tolerance: 1e-05\n",
      "MSE after iteration 15: 0.0018205806782733642, difference between errors: 0.0001803282168160781, tolerance: 1e-05\n",
      "MSE after iteration 16: 0.0016325312715740796, difference between errors: 0.00018804940669928452, tolerance: 1e-05\n",
      "MSE after iteration 17: 0.0014547336943210726, difference between errors: 0.00017779757725300705, tolerance: 1e-05\n",
      "MSE after iteration 18: 0.0013183832131132295, difference between errors: 0.00013635048120784303, tolerance: 1e-05\n",
      "MSE after iteration 19: 0.0012283705161345818, difference between errors: 9.001269697864775e-05, tolerance: 1e-05\n",
      "MSE after iteration 20: 0.001147086885932627, difference between errors: 8.128363020195478e-05, tolerance: 1e-05\n",
      "MSE after iteration 21: 0.0010618999678491082, difference between errors: 8.518691808351883e-05, tolerance: 1e-05\n",
      "MSE after iteration 22: 0.0009688270327883133, difference between errors: 9.307293506079489e-05, tolerance: 1e-05\n",
      "MSE after iteration 23: 0.0008921510311624765, difference between errors: 7.667600162583686e-05, tolerance: 1e-05\n",
      "MSE after iteration 24: 0.0008543698325925339, difference between errors: 3.7781198569942576e-05, tolerance: 1e-05\n",
      "MSE after iteration 25: 0.000842812099822733, difference between errors: 1.1557732769800822e-05, tolerance: 1e-05\n",
      "MSE after iteration 26: 0.0008392287311137175, difference between errors: 3.5833687090155043e-06, tolerance: 1e-05\n",
      "Running time: 1.2786741256713867\n"
     ]
    }
   ],
   "source": [
    "# Run ICP for dummy files\n",
    "source = read_data(os.path.join(data_dir, 'source.txt'))\n",
    "target = read_data(os.path.join(data_dir, 'target.txt'))\n",
    "max_iters = 200\n",
    "T_cumul, full_X, mean_error, time_taken = icp(source.T, target.T, tolerance=1e-5)\n",
    "savemat(os.path.join(data_dir, 'pcd_dummy.mat'), {'points': full_X})"
   ]
  },
  {
   "cell_type": "code",
   "execution_count": 20,
   "metadata": {},
   "outputs": [],
   "source": [
    "matlab_eng.plot_file(os.path.join(data_dir, 'pcd_dummy.mat'), nargout=0)"
   ]
  },
  {
   "cell_type": "code",
   "execution_count": 21,
   "metadata": {},
   "outputs": [
    {
     "ename": "KeyboardInterrupt",
     "evalue": "",
     "output_type": "error",
     "traceback": [
      "\u001b[0;31m---------------------------------------------------------------------------\u001b[0m",
      "\u001b[0;31mKeyboardInterrupt\u001b[0m                         Traceback (most recent call last)",
      "\u001b[0;32m<ipython-input-21-fcd15e9a9700>\u001b[0m in \u001b[0;36m<module>\u001b[0;34m()\u001b[0m\n\u001b[1;32m      3\u001b[0m normal_files = [x for x in get_files(\n\u001b[1;32m      4\u001b[0m     transformed_data_dir, '.txt') if 'normal' in x and 'clean' not in x]\n\u001b[0;32m----> 5\u001b[0;31m \u001b[0mpcd_files\u001b[0m\u001b[0;34m,\u001b[0m \u001b[0mnormal_files\u001b[0m \u001b[0;34m=\u001b[0m \u001b[0mclean_pcds\u001b[0m\u001b[0;34m(\u001b[0m\u001b[0mpcd_files\u001b[0m\u001b[0;34m[\u001b[0m\u001b[0;34m:\u001b[0m\u001b[0;34m]\u001b[0m\u001b[0;34m,\u001b[0m \u001b[0mnormal_files\u001b[0m\u001b[0;34m)\u001b[0m\u001b[0;34m\u001b[0m\u001b[0m\n\u001b[0m",
      "\u001b[0;32m~/Education/uva/computer-vision/part2/assignments/computer-vision-2/Assignment_1/final_code/helpers.py\u001b[0m in \u001b[0;36mclean_pcds\u001b[0;34m(pcd_files, normal_files)\u001b[0m\n\u001b[1;32m     77\u001b[0m         \u001b[0mfile_id\u001b[0m \u001b[0;34m=\u001b[0m \u001b[0mre\u001b[0m\u001b[0;34m.\u001b[0m\u001b[0msearch\u001b[0m\u001b[0;34m(\u001b[0m\u001b[0;34mr'(\\d{5}\\d+)'\u001b[0m\u001b[0;34m,\u001b[0m \u001b[0mfile\u001b[0m\u001b[0;34m)\u001b[0m\u001b[0;34m.\u001b[0m\u001b[0mgroup\u001b[0m\u001b[0;34m(\u001b[0m\u001b[0;34m)\u001b[0m\u001b[0;34m\u001b[0m\u001b[0m\n\u001b[1;32m     78\u001b[0m         \u001b[0marray\u001b[0m \u001b[0;34m=\u001b[0m \u001b[0mnp\u001b[0m\u001b[0;34m.\u001b[0m\u001b[0marray\u001b[0m\u001b[0;34m(\u001b[0m\u001b[0mread_pcd\u001b[0m\u001b[0;34m(\u001b[0m\u001b[0mfile\u001b[0m\u001b[0;34m)\u001b[0m\u001b[0;34m)\u001b[0m\u001b[0;34m\u001b[0m\u001b[0m\n\u001b[0;32m---> 79\u001b[0;31m         \u001b[0marray_normal\u001b[0m \u001b[0;34m=\u001b[0m \u001b[0mnp\u001b[0m\u001b[0;34m.\u001b[0m\u001b[0mloadtxt\u001b[0m\u001b[0;34m(\u001b[0m\u001b[0mnormal_files\u001b[0m\u001b[0;34m[\u001b[0m\u001b[0mi\u001b[0m\u001b[0;34m]\u001b[0m\u001b[0;34m)\u001b[0m\u001b[0;34m.\u001b[0m\u001b[0mT\u001b[0m\u001b[0;34m\u001b[0m\u001b[0m\n\u001b[0m\u001b[1;32m     80\u001b[0m         \u001b[0mmeanZ\u001b[0m \u001b[0;34m=\u001b[0m \u001b[0mnp\u001b[0m\u001b[0;34m.\u001b[0m\u001b[0mmean\u001b[0m\u001b[0;34m(\u001b[0m\u001b[0marray\u001b[0m\u001b[0;34m[\u001b[0m\u001b[0;36m2\u001b[0m\u001b[0;34m,\u001b[0m \u001b[0;34m:\u001b[0m\u001b[0;34m]\u001b[0m\u001b[0;34m)\u001b[0m\u001b[0;34m\u001b[0m\u001b[0m\n\u001b[1;32m     81\u001b[0m         \u001b[0midxs\u001b[0m \u001b[0;34m=\u001b[0m \u001b[0mnp\u001b[0m\u001b[0;34m.\u001b[0m\u001b[0mwhere\u001b[0m\u001b[0;34m(\u001b[0m\u001b[0marray\u001b[0m\u001b[0;34m[\u001b[0m\u001b[0;36m2\u001b[0m\u001b[0;34m,\u001b[0m \u001b[0;34m:\u001b[0m\u001b[0;34m]\u001b[0m \u001b[0;34m<=\u001b[0m \u001b[0;36m1.7\u001b[0m\u001b[0;34m)\u001b[0m\u001b[0;34m[\u001b[0m\u001b[0;36m0\u001b[0m\u001b[0;34m]\u001b[0m\u001b[0;34m\u001b[0m\u001b[0m\n",
      "\u001b[0;32m~/miniconda3/envs/py36/lib/python3.6/site-packages/numpy/lib/npyio.py\u001b[0m in \u001b[0;36mloadtxt\u001b[0;34m(fname, dtype, comments, delimiter, converters, skiprows, usecols, unpack, ndmin, encoding)\u001b[0m\n\u001b[1;32m   1090\u001b[0m         \u001b[0;31m# converting the data\u001b[0m\u001b[0;34m\u001b[0m\u001b[0;34m\u001b[0m\u001b[0m\n\u001b[1;32m   1091\u001b[0m         \u001b[0mX\u001b[0m \u001b[0;34m=\u001b[0m \u001b[0;32mNone\u001b[0m\u001b[0;34m\u001b[0m\u001b[0m\n\u001b[0;32m-> 1092\u001b[0;31m         \u001b[0;32mfor\u001b[0m \u001b[0mx\u001b[0m \u001b[0;32min\u001b[0m \u001b[0mread_data\u001b[0m\u001b[0;34m(\u001b[0m\u001b[0m_loadtxt_chunksize\u001b[0m\u001b[0;34m)\u001b[0m\u001b[0;34m:\u001b[0m\u001b[0;34m\u001b[0m\u001b[0m\n\u001b[0m\u001b[1;32m   1093\u001b[0m             \u001b[0;32mif\u001b[0m \u001b[0mX\u001b[0m \u001b[0;32mis\u001b[0m \u001b[0;32mNone\u001b[0m\u001b[0;34m:\u001b[0m\u001b[0;34m\u001b[0m\u001b[0m\n\u001b[1;32m   1094\u001b[0m                 \u001b[0mX\u001b[0m \u001b[0;34m=\u001b[0m \u001b[0mnp\u001b[0m\u001b[0;34m.\u001b[0m\u001b[0marray\u001b[0m\u001b[0;34m(\u001b[0m\u001b[0mx\u001b[0m\u001b[0;34m,\u001b[0m \u001b[0mdtype\u001b[0m\u001b[0;34m)\u001b[0m\u001b[0;34m\u001b[0m\u001b[0m\n",
      "\u001b[0;32m~/miniconda3/envs/py36/lib/python3.6/site-packages/numpy/lib/npyio.py\u001b[0m in \u001b[0;36mread_data\u001b[0;34m(chunk_size)\u001b[0m\n\u001b[1;32m   1020\u001b[0m \u001b[0;34m\u001b[0m\u001b[0m\n\u001b[1;32m   1021\u001b[0m             \u001b[0;31m# Then pack it according to the dtype's nesting\u001b[0m\u001b[0;34m\u001b[0m\u001b[0;34m\u001b[0m\u001b[0m\n\u001b[0;32m-> 1022\u001b[0;31m             \u001b[0mitems\u001b[0m \u001b[0;34m=\u001b[0m \u001b[0mpack_items\u001b[0m\u001b[0;34m(\u001b[0m\u001b[0mitems\u001b[0m\u001b[0;34m,\u001b[0m \u001b[0mpacking\u001b[0m\u001b[0;34m)\u001b[0m\u001b[0;34m\u001b[0m\u001b[0m\n\u001b[0m\u001b[1;32m   1023\u001b[0m             \u001b[0mX\u001b[0m\u001b[0;34m.\u001b[0m\u001b[0mappend\u001b[0m\u001b[0;34m(\u001b[0m\u001b[0mitems\u001b[0m\u001b[0;34m)\u001b[0m\u001b[0;34m\u001b[0m\u001b[0m\n\u001b[1;32m   1024\u001b[0m             \u001b[0;32mif\u001b[0m \u001b[0mlen\u001b[0m\u001b[0;34m(\u001b[0m\u001b[0mX\u001b[0m\u001b[0;34m)\u001b[0m \u001b[0;34m>\u001b[0m \u001b[0mchunk_size\u001b[0m\u001b[0;34m:\u001b[0m\u001b[0;34m\u001b[0m\u001b[0m\n",
      "\u001b[0;32m~/miniconda3/envs/py36/lib/python3.6/site-packages/numpy/lib/npyio.py\u001b[0m in \u001b[0;36mpack_items\u001b[0;34m(items, packing)\u001b[0m\n\u001b[1;32m    976\u001b[0m             \u001b[0mret\u001b[0m \u001b[0;34m=\u001b[0m \u001b[0;34m[\u001b[0m\u001b[0;34m]\u001b[0m\u001b[0;34m\u001b[0m\u001b[0m\n\u001b[1;32m    977\u001b[0m             \u001b[0;32mfor\u001b[0m \u001b[0mlength\u001b[0m\u001b[0;34m,\u001b[0m \u001b[0msubpacking\u001b[0m \u001b[0;32min\u001b[0m \u001b[0mpacking\u001b[0m\u001b[0;34m:\u001b[0m\u001b[0;34m\u001b[0m\u001b[0m\n\u001b[0;32m--> 978\u001b[0;31m                 \u001b[0mret\u001b[0m\u001b[0;34m.\u001b[0m\u001b[0mappend\u001b[0m\u001b[0;34m(\u001b[0m\u001b[0mpack_items\u001b[0m\u001b[0;34m(\u001b[0m\u001b[0mitems\u001b[0m\u001b[0;34m[\u001b[0m\u001b[0mstart\u001b[0m\u001b[0;34m:\u001b[0m\u001b[0mstart\u001b[0m\u001b[0;34m+\u001b[0m\u001b[0mlength\u001b[0m\u001b[0;34m]\u001b[0m\u001b[0;34m,\u001b[0m \u001b[0msubpacking\u001b[0m\u001b[0;34m)\u001b[0m\u001b[0;34m)\u001b[0m\u001b[0;34m\u001b[0m\u001b[0m\n\u001b[0m\u001b[1;32m    979\u001b[0m                 \u001b[0mstart\u001b[0m \u001b[0;34m+=\u001b[0m \u001b[0mlength\u001b[0m\u001b[0;34m\u001b[0m\u001b[0m\n\u001b[1;32m    980\u001b[0m             \u001b[0;32mreturn\u001b[0m \u001b[0mtuple\u001b[0m\u001b[0;34m(\u001b[0m\u001b[0mret\u001b[0m\u001b[0;34m)\u001b[0m\u001b[0;34m\u001b[0m\u001b[0m\n",
      "\u001b[0;32m~/miniconda3/envs/py36/lib/python3.6/site-packages/numpy/lib/npyio.py\u001b[0m in \u001b[0;36mpack_items\u001b[0;34m(items, packing)\u001b[0m\n\u001b[1;32m    964\u001b[0m             \u001b[0;32mreturn\u001b[0m \u001b[0;34m(\u001b[0m\u001b[0mtypes\u001b[0m\u001b[0;34m,\u001b[0m \u001b[0mpacking\u001b[0m\u001b[0;34m)\u001b[0m\u001b[0;34m\u001b[0m\u001b[0m\n\u001b[1;32m    965\u001b[0m \u001b[0;34m\u001b[0m\u001b[0m\n\u001b[0;32m--> 966\u001b[0;31m     \u001b[0;32mdef\u001b[0m \u001b[0mpack_items\u001b[0m\u001b[0;34m(\u001b[0m\u001b[0mitems\u001b[0m\u001b[0;34m,\u001b[0m \u001b[0mpacking\u001b[0m\u001b[0;34m)\u001b[0m\u001b[0;34m:\u001b[0m\u001b[0;34m\u001b[0m\u001b[0m\n\u001b[0m\u001b[1;32m    967\u001b[0m         \u001b[0;34m\"\"\"Pack items into nested lists based on re-packing info.\"\"\"\u001b[0m\u001b[0;34m\u001b[0m\u001b[0m\n\u001b[1;32m    968\u001b[0m         \u001b[0;32mif\u001b[0m \u001b[0mpacking\u001b[0m \u001b[0;32mis\u001b[0m \u001b[0;32mNone\u001b[0m\u001b[0;34m:\u001b[0m\u001b[0;34m\u001b[0m\u001b[0m\n",
      "\u001b[0;31mKeyboardInterrupt\u001b[0m: "
     ]
    }
   ],
   "source": [
    "# Clean the files\n",
    "pcd_files = [x for x in get_files(\n",
    "    transformed_data_dir, '.txt') if 'normal' not in x and 'clean' not in x]\n",
    "normal_files = [x for x in get_files(\n",
    "    transformed_data_dir, '.txt') if 'normal' in x and 'clean' not in x]\n",
    "pcd_files, normal_files = clean_pcds(pcd_files[:], normal_files)"
   ]
  },
  {
   "cell_type": "code",
   "execution_count": 22,
   "metadata": {},
   "outputs": [],
   "source": [
    "# Specify the parameters\n",
    "weight_types = [None, 'dist', 'dist5', 'dist55']\n",
    "sampling_types = [None, 'iterative', 'uniform']\n",
    "outlier_rej_types = [None, 'threshold', 'variance', 'normals']\n",
    "steps = [1, 2, 4, 10]\n",
    "weight_type = weight_types[0]\n",
    "sampling_type = sampling_types[0]\n",
    "outlier_rej_type = outlier_rej_types[0]\n",
    "step = steps[0]"
   ]
  },
  {
   "cell_type": "code",
   "execution_count": null,
   "metadata": {},
   "outputs": [],
   "source": [
    "# Run consecutive merging for all frames\n",
    "start = time.time()\n",
    "\n",
    "transformations,mean_error,times,mean_errors = get_merge_transformations(pcd_files, normal_files=normal_files, \n",
    "                                                                         weight_type=weight_type, step=step, method='consecutive', \n",
    "                                                                         outlier_rejection=outlier_rej_type, sample_size=5000, \n",
    "                                                                         sampling=sampling_type, tolerance=1e-10)\n",
    "\n",
    "final_pcd = reduce(lambda src, target: merge_frames(src, target[0], target[1]),\n",
    "                    transformations[1:],\n",
    "                    transformations[0])\n",
    "\n",
    "savemat(os.path.join(data_dir, f'full_{sampling_type}_{weight_type}_{outlier_rej_type}_{step}_Consecutive.mat'),\n",
    "        {'points': final_pcd})\n",
    "\n",
    "print(f'Time elapsed: {time.time() - start}')"
   ]
  },
  {
   "cell_type": "code",
   "execution_count": null,
   "metadata": {},
   "outputs": [],
   "source": [
    "matlab_eng.plot_file(os.path.join(data_dir, f'full_{sampling_type}_{weight_type}_{outlier_rej_type}_{step}_Consecutive.mat'),\n",
    "                     nargout=0)"
   ]
  },
  {
   "cell_type": "code",
   "execution_count": null,
   "metadata": {},
   "outputs": [],
   "source": [
    "# Run consecutive merging for frames 1 to 50 and frames 100 to 50 and merge them\n",
    "start = time.time()\n",
    "\n",
    "half_pcd_files = pcd_files[:51]\n",
    "second_half_pcd_files = pcd_files[50:][::-1]\n",
    "half, _ = get_merge_transformations(half_pcd_files, normal_files=half_normal_files, weight_type=weight_type,\n",
    "                                 step=step, method='consecutive', outlier_rejection=outlier_rej_type,\n",
    "                                 sample_size=5000, sampling=sampling_type, tolerance=1e-11)\n",
    "second_half, _ = get_merge_transformations(second_half_pcd_files, normal_files=second_half_normal_files, weight_type=weight_type,\n",
    "                                        step=step, method='consecutive', outlier_rejection=outlier_rej_type,\n",
    "                                        sample_size=5000, sampling=sampling_type, tolerance=1e-11)\n",
    "\n",
    "final_pcd = reduce(lambda src, target: merge_frames(src, target[0], target[1]),\n",
    "                    transformations[1:],\n",
    "                    transformations[0])\n",
    "\n",
    "final_pcd1 = reduce(lambda src, target: merge_frames(src, target[0], target[1]),\n",
    "                    half[1:],\n",
    "                    half[0])\n",
    "\n",
    "final_pcd2 = reduce(lambda src, target: merge_frames(src, target[0], target[1]),\n",
    "                    second_half[1:],\n",
    "                    second_half[0])\n",
    "\n",
    "final_pcd = np.concatenate((final_pcd1, final_pcd2), axis = 0)\n",
    "\n",
    "savemat(os.path.join(data_dir, f'full_{sampling_type}_{weight_type}_{outlier_rej_type}_{step}_half.mat'),\n",
    "        {'points': final_pcd})\n",
    "\n",
    "print(f'Time elapsed: {time.time() - start}')"
   ]
  },
  {
   "cell_type": "code",
   "execution_count": null,
   "metadata": {},
   "outputs": [],
   "source": [
    "matlab_eng.plot_file(os.path.join(data_dir, f'full_{sampling_type}_{weight_type}_{outlier_rej_type}_{step}_half.mat'),\n",
    "                     nargout=0)"
   ]
  },
  {
   "cell_type": "code",
   "execution_count": null,
   "metadata": {},
   "outputs": [],
   "source": [
    "# Run consecutive merging for the first 20 frames\n",
    "start = time.time()\n",
    "\n",
    "transformations,mean_error,times,mean_errors = get_merge_transformations(pcd_files[5:20], normal_files=normal_files[5:20], \n",
    "                                                                         weight_type=weight_type, step=step, method='iterative', \n",
    "                                                                         outlier_rejection=outlier_rej_type, sample_size=5000, \n",
    "                                                                         sampling=sampling_type, tolerance=1e-10)\n",
    "\n",
    "final_pcd = reduce(lambda src, target: merge_frames(src, target[0], target[1]),\n",
    "                    transformations[1:],\n",
    "                    transformations[0])\n",
    "\n",
    "savemat(os.path.join(data_dir, f'full_{sampling_type}_{weight_type}_{outlier_rej_type}_{step}_Iterative.mat'),\n",
    "        {'points': final_pcd})\n",
    "\n",
    "print(f'Time elapsed: {time.time() - start}')"
   ]
  },
  {
   "cell_type": "code",
   "execution_count": null,
   "metadata": {},
   "outputs": [],
   "source": [
    "matlab_eng.plot_file(os.path.join(data_dir, f'full_{sampling_type}_{weight_type}_{outlier_rej_type}_{step}_Iterative.mat'),\n",
    "                     nargout=0)"
   ]
  }
 ],
 "metadata": {
  "kernelspec": {
   "display_name": "Python (py36)",
   "language": "python",
   "name": "myenv"
  },
  "language_info": {
   "codemirror_mode": {
    "name": "ipython",
    "version": 3
   },
   "file_extension": ".py",
   "mimetype": "text/x-python",
   "name": "python",
   "nbconvert_exporter": "python",
   "pygments_lexer": "ipython3",
   "version": "3.6.4"
  }
 },
 "nbformat": 4,
 "nbformat_minor": 2
}
